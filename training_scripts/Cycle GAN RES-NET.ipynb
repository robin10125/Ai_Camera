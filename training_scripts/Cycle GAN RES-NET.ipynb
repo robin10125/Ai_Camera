{
 "cells": [
  {
   "cell_type": "code",
   "execution_count": null,
   "id": "106d4a23",
   "metadata": {},
   "outputs": [],
   "source": [
    "import tensorflow as tf\n",
    "import tensorflow_addons as tfa\n",
    "import numpy as np\n",
    "import os\n",
    "import time\n",
    "import matplotlib.pyplot as plt\n",
    "from IPython.display import clear_output\n",
    "import pathlib\n",
    "from tensorflow import keras\n"
   ]
  },
  {
   "cell_type": "code",
   "execution_count": null,
   "id": "ce794832",
   "metadata": {},
   "outputs": [],
   "source": [
    "AUTOTUNE = tf.data.AUTOTUNE\n",
    "BUFFER_SIZE = 1000\n",
    "BATCH_SIZE = 1\n",
    "IMG_WIDTH = 256\n",
    "IMG_HEIGHT = 256"
   ]
  },
  {
   "cell_type": "markdown",
   "id": "d7b21bb1",
   "metadata": {},
   "source": [
    "# Directory image set pipline"
   ]
  },
  {
   "cell_type": "code",
   "execution_count": null,
   "id": "69387f9d",
   "metadata": {},
   "outputs": [],
   "source": [
    "paintingset_url = 'Path/To/Dataset'\n",
    "photoset_url = 'Path/To/Dataset'\n",
    "painting_dir = pathlib.Path(paintingset_url)\n",
    "photo_dir = pathlib.Path(photoset_url)\n",
    "#painting_dir -> 'insert_varibale_name'\n",
    "#photo_dir -> 'insert_varibale_name'2\n",
    "image_count = len(list(painting_dir.glob('*/*.jpg')))\n",
    "image_count2 = len(list(photo_dir.glob('*/*.jpg')))\n",
    "print(image_count, image_count2)"
   ]
  },
  {
   "cell_type": "code",
   "execution_count": null,
   "id": "158a1f7e",
   "metadata": {
    "scrolled": true
   },
   "outputs": [],
   "source": [
    "list_ds = tf.data.Dataset.list_files(str(painting_dir/'*/*'), shuffle=False)\n",
    "list_ds = list_ds.shuffle(image_count, reshuffle_each_iteration=False)\n",
    "\n",
    "class_names = np.array(sorted([item.name for item in painting_dir.glob('*') if item.name != \"LICENSE.txt\"]))\n",
    "val_size = int(image_count * 0.2)\n",
    "train_ds = list_ds.skip(val_size)\n",
    "val_ds = list_ds.take(val_size)\n",
    "\n",
    "list_ds2 = tf.data.Dataset.list_files(str(photo_dir/'*/*'), shuffle=False)\n",
    "list_ds2 = list_ds2.shuffle(image_count, reshuffle_each_iteration=False)\n",
    "\n",
    "class_names2 = np.array(sorted([item.name for item in photo_dir.glob('*') if item.name != \"LICENSE.txt\"]))\n",
    "val_size2 = int(image_count2 * 0.5)\n",
    "train_ds2 = list_ds2.skip(val_size2)\n",
    "val_ds2 = list_ds2.take(val_size2)"
   ]
  },
  {
   "cell_type": "code",
   "execution_count": null,
   "id": "dfc6831b",
   "metadata": {},
   "outputs": [],
   "source": [
    "def get_label(file_path):\n",
    "  # convert the path to a list of path components\n",
    "  parts = tf.strings.split(file_path, os.path.sep)\n",
    "  # The second to last is the class-directory\n",
    "  one_hot = parts[-2] == class_names\n",
    "  # Integer encode the label\n",
    "  return tf.argmax(one_hot)\n",
    "\n",
    "def decode_img(img):\n",
    "  # convert the compressed string to a 3D uint8 tensor\n",
    "  img = tf.image.decode_jpeg(img, channels=3)\n",
    "  return img\n",
    "\n",
    "def process_path(file_path):\n",
    "  label = get_label(file_path)\n",
    "  # load the raw data from the file as a string\n",
    "  img = tf.io.read_file(file_path)\n",
    "  img = decode_img(img)\n",
    "  return img, label"
   ]
  },
  {
   "cell_type": "code",
   "execution_count": null,
   "id": "adf92141",
   "metadata": {},
   "outputs": [],
   "source": [
    "train_ds2 = train_ds2.map(process_path, num_parallel_calls=AUTOTUNE)\n",
    "val_ds2 = val_ds2.map(process_path, num_parallel_calls=AUTOTUNE)\n",
    "\n",
    "train_ds2 = train_ds2.prefetch(buffer_size=AUTOTUNE)\n",
    "val_ds2 = val_ds2.prefetch(buffer_size=AUTOTUNE)\n",
    "\n",
    "train_ds = train_ds.map(process_path, num_parallel_calls=AUTOTUNE)\n",
    "val_ds = val_ds.map(process_path, num_parallel_calls=AUTOTUNE)\n",
    "\n",
    "train_ds = train_ds.prefetch(buffer_size=AUTOTUNE)\n",
    "val_ds = val_ds.prefetch(buffer_size=AUTOTUNE)"
   ]
  },
  {
   "cell_type": "code",
   "execution_count": null,
   "id": "f8162975",
   "metadata": {},
   "outputs": [],
   "source": [
    "def random_crop(image):\n",
    "  cropped_image = tf.image.random_crop(image, size=[IMG_HEIGHT, IMG_WIDTH, 3])\n",
    "  return cropped_image"
   ]
  },
  {
   "cell_type": "code",
   "execution_count": null,
   "id": "8d7121e6",
   "metadata": {},
   "outputs": [],
   "source": [
    "# normalizing the images to [-1, 1]\n",
    "def normalize(image):\n",
    "  image = tf.cast(image, tf.float32)\n",
    "  image = (image / 127.5) - 1\n",
    "  return image"
   ]
  },
  {
   "cell_type": "code",
   "execution_count": null,
   "id": "a02074e2",
   "metadata": {},
   "outputs": [],
   "source": [
    "def random_jitter(image):\n",
    "  s = 286\n",
    "  image = tf.image.resize(image, [s, s],\n",
    "                          method=tf.image.ResizeMethod.BICUBIC)\n",
    "  # randomly cropping to 256 x 256 x 3\n",
    "  image = random_crop(image)\n",
    "  # random mirroring\n",
    "  image = tf.image.random_flip_left_right(image)\n",
    "\n",
    "  return image"
   ]
  },
  {
   "cell_type": "code",
   "execution_count": null,
   "id": "a4c90a7e",
   "metadata": {},
   "outputs": [],
   "source": [
    "def random_jitter2(image):\n",
    "  image = tf.image.resize(image, [1024, 1024],\n",
    "                        method=tf.image.ResizeMethod.BICUBIC)\n",
    "  # randomly cropping to 256 x 256 x 3\n",
    "  image = random_crop(image)\n",
    "  # random mirroring\n",
    "  image = tf.image.random_flip_left_right(image)\n",
    "\n",
    "  return image"
   ]
  },
  {
   "cell_type": "code",
   "execution_count": null,
   "id": "8cb306ec",
   "metadata": {},
   "outputs": [],
   "source": [
    "def preprocess_image_train(image, label):\n",
    "  image = random_jitter(image)\n",
    "  image = normalize(image)\n",
    "  return image"
   ]
  },
  {
   "cell_type": "code",
   "execution_count": null,
   "id": "24b16a22",
   "metadata": {},
   "outputs": [],
   "source": [
    "def resize_image(image):\n",
    "    image = tf.image.resize(image, [256, 256], method=tf.image.ResizeMethod.BICUBIC)\n",
    "    return image"
   ]
  },
  {
   "cell_type": "code",
   "execution_count": null,
   "id": "ec8f470f",
   "metadata": {},
   "outputs": [],
   "source": [
    "def preprocess_image_test(image, label):\n",
    "  image = random_jitter(image)  \n",
    "  image = normalize(image)\n",
    "  return image"
   ]
  },
  {
   "cell_type": "code",
   "execution_count": null,
   "id": "e4298ad6",
   "metadata": {},
   "outputs": [],
   "source": [
    "def preprocess_test_2(image, label):\n",
    "    image = random_jitter2(image)\n",
    "    image = normalize(image)\n",
    "    return image"
   ]
  },
  {
   "cell_type": "markdown",
   "id": "0bc823c7",
   "metadata": {},
   "source": [
    "# Dataset mapping"
   ]
  },
  {
   "cell_type": "code",
   "execution_count": null,
   "id": "0f4711dd",
   "metadata": {},
   "outputs": [],
   "source": [
    "train_ds = train_ds.map(\n",
    "    preprocess_image_train, num_parallel_calls=AUTOTUNE).cache().shuffle(\n",
    "    BUFFER_SIZE).batch(BATCH_SIZE)\n",
    "val_ds = val_ds.map(\n",
    "    preprocess_image_test, num_parallel_calls=AUTOTUNE).cache().shuffle(\n",
    "    BUFFER_SIZE).batch(BATCH_SIZE)\n",
    "train_ds2 = train_ds2.map(\n",
    "    preprocess_image_train, num_parallel_calls=AUTOTUNE).cache().shuffle(\n",
    "    BUFFER_SIZE).batch(BATCH_SIZE)\n",
    "val_ds2 = val_ds2.map(\n",
    "    preprocess_image_test, num_parallel_calls=AUTOTUNE).cache().shuffle(\n",
    "    BUFFER_SIZE).batch(BATCH_SIZE)\n",
    "print(val_ds2)\n"
   ]
  },
  {
   "cell_type": "markdown",
   "id": "9e480db0",
   "metadata": {},
   "source": [
    "# Data Visualization"
   ]
  },
  {
   "cell_type": "code",
   "execution_count": null,
   "id": "82dbbe44",
   "metadata": {},
   "outputs": [],
   "source": [
    "sample_painting = next(iter(train_ds))\n",
    "sample_photo = next(iter(train_ds2))"
   ]
  },
  {
   "cell_type": "code",
   "execution_count": null,
   "id": "00066c3a",
   "metadata": {},
   "outputs": [],
   "source": [
    "plt.subplot(121)\n",
    "plt.title('painting')\n",
    "plt.imshow(sample_painting[0] * 0.5 + 0.5)\n",
    "\n",
    "plt.subplot(122)\n",
    "plt.title('Painting with random jitter')\n",
    "plt.imshow(random_jitter(sample_painting[0]) * 0.5 + 0.5)"
   ]
  },
  {
   "cell_type": "code",
   "execution_count": null,
   "id": "8ed20d38",
   "metadata": {},
   "outputs": [],
   "source": [
    "plt.subplot(121)\n",
    "plt.title('photo')\n",
    "plt.imshow(sample_photo[0] * 0.5 + 0.5)"
   ]
  },
  {
   "cell_type": "code",
   "execution_count": null,
   "id": "1c03719b",
   "metadata": {},
   "outputs": [],
   "source": [
    "def resnet_block(num_filters, input_layer):\n",
    "    init = tf.random_normal_initializer(0., 0.02)\n",
    "    # first layer convolutional layer\n",
    "    g = tf.keras.layers.Conv2D(num_filters, (3,3), padding='same', kernel_initializer=init)(input_layer)\n",
    "    g = tfa.layers.InstanceNormalization(axis=-1)(g)\n",
    "    g = tf.keras.layers.Activation('relu')(g)\n",
    "    # second convolutional layer\n",
    "    g = tf.keras.layers.Conv2D(num_filters, (3,3), padding='same', kernel_initializer=init)(g)\n",
    "    g = tfa.layers.InstanceNormalization(axis=-1)(g)\n",
    "    # concatenate input layer\n",
    "    g = tf.keras.layers.Concatenate()([g, input_layer])\n",
    "    return g\n",
    "\n",
    "def Generator():\n",
    "   num_resnet=9\n",
    "    initializer = tf.random_normal_initializer(0., 0.02)\n",
    "    inputs = tf.keras.layers.Input(shape=[256, 256, 3])\n",
    "    \n",
    "    #first encoding layer\n",
    "    x = tf.keras.layers.Conv2D(64, (7, 7), padding=\"same\", kernel_initializer = initializer)(inputs)\n",
    "    x= tfa.layers.InstanceNormalization(axis = -1)(x)\n",
    "    x = tf.keras.layers.Activation('relu')(x)\n",
    "    #second encoding layer\n",
    "    x = tf.keras.layers.Conv2D(128, (3, 3), strides = 2, padding=\"same\", kernel_initializer = initializer)(x)\n",
    "    x= tfa.layers.InstanceNormalization(axis = -1)(x)\n",
    "    x = tf.keras.layers.Activation('relu')(x)\n",
    "    #third encoding layer\n",
    "    x = tf.keras.layers.Conv2D(256, (3, 3), strides = 2, padding=\"same\", kernel_initializer = initializer)(x)\n",
    "    x= tfa.layers.InstanceNormalization(axis = -1)(x)\n",
    "    x = tf.keras.layers.Activation('relu')(x)\n",
    "    #resnet blocks\n",
    "    for _ in range(num_resnet):\n",
    "        x = resnet_block(256, x)\n",
    "    #first decoding layer\n",
    "    x = tf.keras.layers.Conv2DTranspose(128, (3, 3), strides = 2, name = \"feature_map\", padding=\"same\", kernel_initializer = initializer)(x)\n",
    "    x= tfa.layers.InstanceNormalization(axis = -1)(x)\n",
    "    x = tf.keras.layers.Activation('relu')(x)\n",
    "    #second decoding layer\n",
    "    x = tf.keras.layers.Conv2DTranspose(64, (3, 3), strides = 2, padding=\"same\", kernel_initializer = initializer)(x)\n",
    "    x= tfa.layers.InstanceNormalization(axis = -1)(x)\n",
    "    x = tf.keras.layers.Activation('relu')(x)\n",
    "    #third decoding layewr\n",
    "    x = tf.keras.layers.Conv2D(3, (7, 7), padding=\"same\", kernel_initializer = initializer)(x)\n",
    "    x= tfa.layers.InstanceNormalization(axis = -1)(x)\n",
    "    output_image = tf.keras.layers.Activation('tanh')(x)\n",
    "    \n",
    "    model = tf.keras.Model(inputs, output_image)\n",
    "    return model"
   ]
  },
  {
   "cell_type": "code",
   "execution_count": null,
   "id": "b1a90faa",
   "metadata": {},
   "outputs": [],
   "source": [
    "def Discriminator():\n",
    "    initializer = tf.random_normal_initializer(0., 0.02)\n",
    "    inputs = tf.keras.layers.Input(shape=[256, 256, 3])\n",
    "    \n",
    "    x = tf.keras.layers.Conv2D(64, (4,4), strides = 2, padding = \"same\", kernel_initializer=initializer)(inputs)\n",
    "    x = tf.keras.layers.LeakyReLU(alpha=0.2)(x)\n",
    "    \n",
    "    x = tf.keras.layers.Conv2D(128, (4,4), strides = 2, padding = \"same\", kernel_initializer=initializer)(x)\n",
    "    x= tfa.layers.InstanceNormalization(axis=-1)(x)\n",
    "    x = tf.keras.layers.LeakyReLU(alpha=0.2)(x)\n",
    "    \n",
    "    x = tf.keras.layers.Conv2D(256, (4,4), strides = 2, padding = \"same\", kernel_initializer=initializer)(x)\n",
    "    x= tfa.layers.InstanceNormalization(axis=-1)(x)\n",
    "    x = tf.keras.layers.LeakyReLU(alpha=0.2)(x)\n",
    "    \n",
    "    x = tf.keras.layers.Conv2D(512, (4,4), strides = 2, padding = \"same\", kernel_initializer=initializer)(x)\n",
    "    x= tfa.layers.InstanceNormalization(axis=-1)(x)\n",
    "    x = tf.keras.layers.LeakyReLU(alpha=0.2, name = \"attention_map\")(x)\n",
    "    \n",
    "    x = tf.keras.layers.Conv2D(512, (4,4), padding = \"same\", kernel_initializer=initializer)(x)\n",
    "    x= tfa.layers.InstanceNormalization(axis=-1)(x)\n",
    "    x = tf.keras.layers.LeakyReLU(alpha=0.2, name = \"features_map\")(x)\n",
    "    \n",
    "    patch_output = tf.keras.layers.Conv2D(1, (4,4), padding=\"same\", kernel_initializer= initializer)(x)\n",
    "    model = tf.keras.Model(inputs, patch_output)\n",
    "    return model\n",
    "    "
   ]
  },
  {
   "cell_type": "code",
   "execution_count": null,
   "id": "31405ba7",
   "metadata": {},
   "outputs": [],
   "source": [
    "generator_f = Generator()\n",
    "generator_g = Generator()\n",
    "discriminator_y = Discriminator()\n",
    "discriminator_x = Discriminator()"
   ]
  },
  {
   "cell_type": "code",
   "execution_count": null,
   "id": "f357229a",
   "metadata": {},
   "outputs": [],
   "source": [
    "LAMBDA = 10\n",
    "generator_g_optimizer = tf.keras.optimizers.Adam(2e-4, beta_1=0.5)\n",
    "generator_f_optimizer = tf.keras.optimizers.Adam(2e-4, beta_1=0.5)\n",
    "\n",
    "discriminator_x_optimizer = tf.keras.optimizers.Adam(2e-4, beta_1=0.5)\n",
    "discriminator_y_optimizer = tf.keras.optimizers.Adam(2e-4, beta_1=0.5)"
   ]
  },
  {
   "cell_type": "code",
   "execution_count": null,
   "id": "f6054f69",
   "metadata": {},
   "outputs": [],
   "source": [
    "x_extractor = keras.Model(inputs=discriminator_x.inputs,\n",
    "                        outputs=discriminator_x.get_layer('attention_map').output)\n",
    "\n",
    "y_extractor = keras.Model(inputs=discriminator_y.inputs,\n",
    "                        outputs=discriminator_y.get_layer('attention_map').output)\n",
    "\n",
    "f_extractor = keras.Model(inputs=generator_f.inputs,\n",
    "                        outputs=generator_f.get_layer('l0').output)\n",
    "\n",
    "g_extractor = keras.Model(inputs=generator_g.inputs,\n",
    "                        outputs=generator_g.get_layer('l0').output)"
   ]
  },
  {
   "cell_type": "code",
   "execution_count": null,
   "id": "6776f103",
   "metadata": {},
   "outputs": [],
   "source": [
    "loss_obj = tf.keras.losses.BinaryCrossentropy(from_logits=True)"
   ]
  },
  {
   "cell_type": "code",
   "execution_count": null,
   "id": "a09ed7b7",
   "metadata": {},
   "outputs": [],
   "source": [
    "def discriminator_loss(real, generated):\n",
    "    \n",
    "  one_vector = tf.ones_like(real)\n",
    "  one_vector = tf.math.scalar_mul(0.9, one_vector)\n",
    "  real_loss = loss_obj(one_vector, real)\n",
    "  generated_loss = loss_obj(tf.zeros_like(generated), generated)\n",
    "  total_disc_loss = real_loss + generated_loss\n",
    "\n",
    "  return total_disc_loss * 0.8"
   ]
  },
  {
   "cell_type": "code",
   "execution_count": null,
   "id": "cd280c6f",
   "metadata": {},
   "outputs": [],
   "source": [
    "def generator_loss(generated):\n",
    "  one_vector = tf.ones_like(generated)\n",
    "  one_vector = tf.math.scalar_mul(0.9, one_vector)\n",
    "  return loss_obj(one_vector, generated)"
   ]
  },
  {
   "cell_type": "code",
   "execution_count": null,
   "id": "f464272c",
   "metadata": {},
   "outputs": [],
   "source": [
    "def calc_cycle_loss(real_image, cycled_image):\n",
    "  loss1 = tf.reduce_mean(tf.abs(real_image - cycled_image))\n",
    "\n",
    "  return LAMBDA * loss1"
   ]
  },
  {
   "cell_type": "code",
   "execution_count": null,
   "id": "7b73a44e",
   "metadata": {},
   "outputs": [],
   "source": [
    "def identity_loss(real_image, same_image):\n",
    "  loss = tf.reduce_mean(tf.abs(real_image - same_image))\n",
    "  return LAMBDA * 0.1 * loss"
   ]
  },
  {
   "cell_type": "code",
   "execution_count": null,
   "id": "2624096a",
   "metadata": {},
   "outputs": [],
   "source": [
    "def feature_map_loss(map_real, map_generated):\n",
    "    loss = tf.math.reduce_mean(  tf.math.abs( tf.math.subtract( map_real, map_generated ) ) )\n",
    "    return LAMBDA * loss"
   ]
  },
  {
   "cell_type": "code",
   "execution_count": null,
   "id": "f66aa2e6",
   "metadata": {},
   "outputs": [],
   "source": [
    "checkpoint_path = \"./checkpoints/selfie2painting/train\"\n",
    "\n",
    "ckpt = tf.train.Checkpoint(generator_g=generator_g,\n",
    "                           generator_f=generator_f,\n",
    "                           discriminator_x=discriminator_x,\n",
    "                           discriminator_y=discriminator_y,\n",
    "                           generator_g_optimizer=generator_g_optimizer,\n",
    "                           generator_f_optimizer=generator_f_optimizer,\n",
    "                           discriminator_x_optimizer=discriminator_x_optimizer,\n",
    "                           discriminator_y_optimizer=discriminator_y_optimizer)\n",
    "\n",
    "ckpt_manager = tf.train.CheckpointManager(ckpt, checkpoint_path, max_to_keep=5)\n",
    "\n",
    "# if a checkpoint exists, restore the latest checkpoint.\n",
    "if ckpt_manager.latest_checkpoint:\n",
    "  ckpt.restore(ckpt_manager.latest_checkpoint)\n",
    "  print ('Latest checkpoint restored!!')"
   ]
  },
  {
   "cell_type": "code",
   "execution_count": null,
   "id": "0ae6f806",
   "metadata": {},
   "outputs": [],
   "source": [
    "EPOCHS = 100"
   ]
  },
  {
   "cell_type": "code",
   "execution_count": null,
   "id": "88c51a3a",
   "metadata": {},
   "outputs": [],
   "source": [
    "def generate_images(model, test_input):\n",
    "      prediction = model.predict(test_input)\n",
    "\n",
    "      plt.figure(figsize=(12, 12))\n",
    "\n",
    "      display_list = [test_input[0], prediction[0]]\n",
    "      title = ['Input Image', 'Predicted Image']\n",
    "\n",
    "      for i in range(2):\n",
    "        plt.subplot(1, 2, i+1)\n",
    "        plt.title(title[i])\n",
    "        # getting the pixel values between [0, 1] to plot it.\n",
    "        plt.imshow(display_list[i] * 0.5 + 0.5)\n",
    "        plt.axis('off')\n",
    "      plt.show()"
   ]
  },
  {
   "cell_type": "code",
   "execution_count": null,
   "id": "49fb277f",
   "metadata": {},
   "outputs": [],
   "source": [
    "def attention_map(image, features):\n",
    "    features = features\n",
    "    abs_features = tf.math.abs(features)\n",
    "    attention_map = tf.math.reduce_sum(abs_features, axis=3, keepdims=True, name=None)\n",
    "    largest_index = tf.math.reduce_max(attention_map)\n",
    "    norm_map = tf.math.scalar_mul((1/largest_index), attention_map, name=None)\n",
    "    attention = tf.image.resize(norm_map, [256,256], method=tf.image.ResizeMethod.BILINEAR)\n",
    "    attention2 = tf.concat([attention,attention],axis=-1)\n",
    "    attention3 = tf.concat([attention2,attention], axis=-1)\n",
    "    attended = tf.math.multiply(image, attention)\n",
    "    return attended\n",
    "    "
   ]
  },
  {
   "cell_type": "code",
   "execution_count": null,
   "id": "a2df113a",
   "metadata": {},
   "outputs": [],
   "source": [
    "@tf.function\n",
    "def train_step(real_x, real_y, config_tensor):\n",
    "  # persistent is set to True because the tape is used more than\n",
    "  # once to calculate the gradients.\n",
    "  with tf.GradientTape(persistent=True) as tape:\n",
    "    # Generator G translates X -> Y\n",
    "    # Generator F translates Y -> X.\n",
    "    balance = config_tensor[0]\n",
    "    cycle_decay = config_tensor[1]\n",
    "    \n",
    "    x_a = x_extractor(real_x)\n",
    "    y_a = y_extractor(real_y)\n",
    "    \n",
    "    real_x_attd = attention_map(real_x, x_a)\n",
    "    fake_y = generator_g(real_x_attd, training=True)\n",
    "    cycled_x = generator_f(fake_y, training=True)\n",
    "    \n",
    "    real_y_attd = attention_map(real_y, y_a)\n",
    "    fake_x = generator_f(real_y_attd, training=True)\n",
    "    cycled_y = generator_g(fake_x, training=True)\n",
    "    \n",
    "    '''\n",
    "    fake_y = generator_g(real_x, training=True)\n",
    "    cycled_x = generator_f(fake_y, training=True)\n",
    "  \n",
    "    fake_x = generator_f(real_y, training=True)\n",
    "    cycled_y = generator_g(fake_x, training=True)\n",
    "    '''\n",
    "    # same_x and same_y are used for identity loss.\n",
    "    same_x = generator_f(real_x, training=True)\n",
    "    same_y = generator_g(real_y, training=True)\n",
    "\n",
    "    disc_real_x = discriminator_x(real_x, training=True)\n",
    "    disc_real_y = discriminator_y(real_y, training=True)\n",
    "\n",
    "    disc_fake_x = discriminator_x(fake_x, training=True)\n",
    "    disc_fake_y = discriminator_y(fake_y, training=True)\n",
    "\n",
    "    # calculate the loss\n",
    "    gen_g_loss = generator_loss(disc_fake_y)\n",
    "    gen_f_loss = generator_loss(disc_fake_x)\n",
    "    \n",
    "    real_y_fm = f_extractor(real_y_attd)\n",
    "    fake_y_fm = f_extractor(fake_y)\n",
    "    fm_g_loss = feature_map_loss(real_y_fm, fake_y_fm)\n",
    "    \n",
    "    real_x_fm = g_extractor(real_x_attd)\n",
    "    fake_x_fm = g_extractor(fake_x)\n",
    "    fm_f_loss = feature_map_loss(real_x_fm, fake_x_fm)\n",
    "    \n",
    "    total_cycle_loss = (((1-balance) * calc_cycle_loss(real_x, cycled_x) + balance * fm_f_loss) + ((1-balance) * calc_cycle_loss(real_y, cycled_y) + balance * fm_g_loss))\n",
    "    #total_cycle_loss = cycle_decay * (calc_cycle_loss(real_x, cycled_x) + calc_cycle_loss(real_y, cycled_y))\n",
    "    # Total generator loss = adversarial loss + cycle loss\n",
    "    \n",
    "    '''\n",
    "    total_gen_g_loss = gen_g_loss + total_cycle_loss + identity_loss(real_y, same_y) \n",
    "    total_gen_f_loss = gen_f_loss + total_cycle_loss + identity_loss(real_x, same_x)\n",
    "    '''\n",
    "    \n",
    "    total_gen_g_loss = gen_g_loss + ((1-balance) * total_cycle_loss) + identity_loss(real_y, same_y) + (balance * fm_g_loss)\n",
    "    total_gen_f_loss = gen_f_loss + ((1-balance) * total_cycle_loss) + identity_loss(real_x, same_x) + (balance * fm_f_loss)\n",
    "    \n",
    "    disc_x_loss = discriminator_loss(disc_real_x, disc_fake_x)\n",
    "    disc_y_loss = discriminator_loss(disc_real_y, disc_fake_y)\n",
    "\n",
    "  # Calculate the gradients for generator and discriminator\n",
    "  generator_g_gradients = tape.gradient(total_gen_g_loss, \n",
    "                                        generator_g.trainable_variables)\n",
    "  generator_f_gradients = tape.gradient(total_gen_f_loss, \n",
    "                                        generator_f.trainable_variables)\n",
    "\n",
    "  discriminator_x_gradients = tape.gradient(disc_x_loss, \n",
    "                                            discriminator_x.trainable_variables)\n",
    "  discriminator_y_gradients = tape.gradient(disc_y_loss, \n",
    "                                            discriminator_y.trainable_variables)\n",
    "\n",
    "  # Apply the gradients to the optimizer\n",
    "  generator_g_optimizer.apply_gradients(zip(generator_g_gradients, \n",
    "                                            generator_g.trainable_variables))\n",
    "\n",
    "  generator_f_optimizer.apply_gradients(zip(generator_f_gradients, \n",
    "                                            generator_f.trainable_variables))\n",
    "\n",
    "  discriminator_x_optimizer.apply_gradients(zip(discriminator_x_gradients,\n",
    "                                                discriminator_x.trainable_variables))\n",
    "\n",
    "  discriminator_y_optimizer.apply_gradients(zip(discriminator_y_gradients,\n",
    "                                                discriminator_y.trainable_variables))"
   ]
  },
  {
   "cell_type": "code",
   "execution_count": null,
   "id": "4e29226c",
   "metadata": {},
   "outputs": [],
   "source": [
    "for epoch in range(EPOCHS):\n",
    "  start = time.time()\n",
    "  n = 0\n",
    "    \n",
    "  balance = min(0.9, ((epoch+10)/50))\n",
    "  cycle_decay = max(0.2, (1-epoch/50))\n",
    "  config_tensor = tf.constant([balance, cycle_decay])\n",
    "\n",
    "  for image_x, image_y in tf.data.Dataset.zip((train_ds, train_ds2)):\n",
    "    train_step(image_x, image_y, config_tensor)\n",
    "    if n % 10 == 0:\n",
    "      print ('.', end='')\n",
    "    n += 1\n",
    "\n",
    "  clear_output(wait=True)\n",
    "  # Using a consistent image (sample_horse) so that the progress of the model\n",
    "  # is clearly visible.\n",
    "  generate_images(generator_g, sample_photo)\n",
    "\n",
    "  if (epoch + 1) % 5 == 0:\n",
    "    ckpt_save_path = ckpt_manager.save()\n",
    "    print ('Saving checkpoint for epoch {} at {}'.format(epoch+1,\n",
    "                                                         ckpt_save_path))\n",
    "\n",
    "  print ('Time taken for epoch {} is {} sec\\n'.format(epoch + 1,\n",
    "                                                      time.time()-start))"
   ]
  },
  {
   "cell_type": "code",
   "execution_count": null,
   "id": "f461bbfe",
   "metadata": {},
   "outputs": [],
   "source": [
    "for inp in val_ds2.take(10):\n",
    "  generate_images(generator_g, inp)"
   ]
  },
  {
   "cell_type": "code",
   "execution_count": null,
   "id": "2dc8d033",
   "metadata": {},
   "outputs": [],
   "source": [
    "generator_f.save('./Van_Gogh_Painter_Unet3/Painter')"
   ]
  },
  {
   "cell_type": "code",
   "execution_count": null,
   "id": "239d121f",
   "metadata": {},
   "outputs": [],
   "source": [
    "generator_g.save('./Van_Gogh_Painter_Unet3/Photographer')\n",
    "discriminator_x.save('./Van_Gogh_Painter_Unet3/dx')\n",
    "discriminator_y.save('./Van_Gogh_Painter_Unet3/dy')"
   ]
  }
 ],
 "metadata": {
  "kernelspec": {
   "display_name": "Python 3",
   "language": "python",
   "name": "python3"
  },
  "language_info": {
   "codemirror_mode": {
    "name": "ipython",
    "version": 3
   },
   "file_extension": ".py",
   "mimetype": "text/x-python",
   "name": "python",
   "nbconvert_exporter": "python",
   "pygments_lexer": "ipython3",
   "version": "3.9.2"
  }
 },
 "nbformat": 4,
 "nbformat_minor": 5
}
